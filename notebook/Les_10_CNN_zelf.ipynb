{
 "cells": [
  {
   "cell_type": "code",
   "execution_count": 150,
   "metadata": {},
   "outputs": [],
   "source": [
    "import numpy as np\n",
    "import matplotlib.pyplot as plt\n",
    "import random  \n",
    "\n",
    "import tensorflow as tf\n",
    "\n",
    "from tensorflow.keras.datasets import fashion_mnist     # MNIST dataset is onderdeel van Keras\n",
    "from tensorflow.keras.datasets import mnist \n",
    "from tensorflow.keras.models import Sequential  # Het type neuraal netwerk dat we gaan gebruiken\n",
    "\n",
    "from tensorflow.keras.layers import Dense, Dropout, Activation  # Verschillende type lagen die we gaan gebruiken\n",
    "from tensorflow.keras.optimizers import SGD, Adam, schedules\n",
    "from tensorflow.keras import utils\n",
    "\n",
    "from tensorflow.keras.preprocessing.image import ImageDataGenerator\n",
    "from tensorflow.keras.layers import Conv2D, MaxPooling2D, ZeroPadding2D, GlobalAveragePooling2D, Flatten\n",
    "from tensorflow.keras.layers import BatchNormalization"
   ]
  },
  {
   "cell_type": "code",
   "execution_count": 151,
   "metadata": {},
   "outputs": [
    {
     "name": "stdout",
     "output_type": "stream",
     "text": [
      "TensorFlow v2.10.0, 0 GPUs:\n"
     ]
    },
    {
     "data": {
      "text/plain": [
       "[]"
      ]
     },
     "execution_count": 151,
     "metadata": {},
     "output_type": "execute_result"
    }
   ],
   "source": [
    "config = tf.compat.v1.ConfigProto()\n",
    "config.gpu_options.per_process_gpu_memory_fraction = 0.7\n",
    "session = tf.compat.v1.Session(config=config)\n",
    "\n",
    "print(f\"TensorFlow v{tf.version.VERSION}, {len(tf.config.list_physical_devices('GPU'))} GPUs:\")\n",
    "tf.config.list_physical_devices('GPU')"
   ]
  },
  {
   "cell_type": "code",
   "execution_count": 152,
   "metadata": {},
   "outputs": [
    {
     "name": "stdout",
     "output_type": "stream",
     "text": [
      "x_train shape (60000, 28, 28)\n",
      "y_train shape (60000,)\n",
      "x_test shape (10000, 28, 28)\n",
      "y_test shape (10000,)\n"
     ]
    }
   ],
   "source": [
    "(x_train, y_train), (x_test, y_test) = fashion_mnist.load_data()\n",
    "\n",
    "print(\"x_train shape\", x_train.shape)\n",
    "print(\"y_train shape\", y_train.shape)\n",
    "print(\"x_test shape\", x_test.shape)\n",
    "print(\"y_test shape\", y_test.shape)"
   ]
  },
  {
   "cell_type": "code",
   "execution_count": 153,
   "metadata": {},
   "outputs": [
    {
     "name": "stdout",
     "output_type": "stream",
     "text": [
      "Training matrix shape (60000, 28, 28, 1)\n",
      "Testing matrix shape (10000, 28, 28, 1)\n"
     ]
    }
   ],
   "source": [
    "X_train = x_train.reshape(60000, 28, 28, 1)\n",
    "X_test = x_test.reshape(10000, 28, 28, 1)\n",
    "\n",
    "X_train = X_train.astype('float32')         \n",
    "X_test = X_test.astype('float32')\n",
    "\n",
    "X_train /= 255                              \n",
    "X_test /= 255\n",
    "\n",
    "print(\"Training matrix shape\", X_train.shape)\n",
    "print(\"Testing matrix shape\", X_test.shape)"
   ]
  },
  {
   "cell_type": "code",
   "execution_count": 154,
   "metadata": {},
   "outputs": [
    {
     "name": "stdout",
     "output_type": "stream",
     "text": [
      "Y_train: (60000, 10), Y_test: (10000, 10)\n"
     ]
    }
   ],
   "source": [
    "nb_classes = 10 # number of unique digits\n",
    "\n",
    "Y_train = utils.to_categorical(y_train, nb_classes)\n",
    "Y_test = utils.to_categorical(y_test, nb_classes)\n",
    "\n",
    "print(f\"Y_train: {Y_train.shape}, Y_test: {Y_test.shape}\")"
   ]
  },
  {
   "cell_type": "code",
   "execution_count": 155,
   "metadata": {},
   "outputs": [],
   "source": [
    "model = Sequential()\n",
    "\n",
    "model.add(Conv2D(filters=32, kernel_size=(3, 3), input_shape=(28,28,1)))\n",
    "model.add(BatchNormalization(axis=-1))\n",
    "convLayer01 = Activation('relu') \n",
    "model.add(convLayer01)\n",
    "\n",
    "model.add(Conv2D(32, (3, 3)))\n",
    "model.add(BatchNormalization(axis=-1))\n",
    "convLayer02 = Activation('relu')\n",
    "model.add(convLayer02)\n",
    "\n",
    "model.add(Conv2D(32, (3, 3)))\n",
    "model.add(BatchNormalization(axis=-1))\n",
    "convLayer03 = Activation('relu')\n",
    "model.add(convLayer03)\n",
    "\n",
    "model.add(Conv2D(32, (3, 3)))\n",
    "model.add(BatchNormalization(axis=-1))\n",
    "model.add(Activation('relu'))\n",
    "convLayer04 = MaxPooling2D(pool_size=(2,2))\n",
    "model.add(convLayer04)\n",
    "\n",
    "model.add(Conv2D(16, (3, 3)))\n",
    "model.add(BatchNormalization(axis=-1))\n",
    "convLayer05 = Activation('relu')\n",
    "model.add(convLayer05)\n",
    "\n",
    "model.add(Conv2D(16, (3, 3)))\n",
    "model.add(BatchNormalization(axis=-1))\n",
    "convLayer06 = Activation('relu')\n",
    "model.add(convLayer06)\n",
    "model.add(Flatten())\n",
    "\n",
    "model.add(Dense(512))\n",
    "model.add(BatchNormalization())\n",
    "model.add(Activation('softmax'))\n",
    "\n",
    "model.add(Dense(10))\n",
    "model.add(Activation('softmax'))"
   ]
  },
  {
   "cell_type": "code",
   "execution_count": 156,
   "metadata": {},
   "outputs": [
    {
     "name": "stdout",
     "output_type": "stream",
     "text": [
      "X_train shape (60000, 28, 28)\n",
      "Y_train shape (60000,)\n"
     ]
    }
   ],
   "source": [
    "print(\"X_train shape\", x_train.shape)\n",
    "print(\"Y_train shape\", y_train.shape)"
   ]
  },
  {
   "cell_type": "code",
   "execution_count": 157,
   "metadata": {},
   "outputs": [
    {
     "name": "stdout",
     "output_type": "stream",
     "text": [
      "Model: \"sequential_29\"\n",
      "_________________________________________________________________\n",
      " Layer (type)                Output Shape              Param #   \n",
      "=================================================================\n",
      " conv2d_104 (Conv2D)         (None, 26, 26, 32)        320       \n",
      "                                                                 \n",
      " batch_normalization_113 (Ba  (None, 26, 26, 32)       128       \n",
      " tchNormalization)                                               \n",
      "                                                                 \n",
      " activation_131 (Activation)  (None, 26, 26, 32)       0         \n",
      "                                                                 \n",
      " conv2d_105 (Conv2D)         (None, 24, 24, 32)        9248      \n",
      "                                                                 \n",
      " batch_normalization_114 (Ba  (None, 24, 24, 32)       128       \n",
      " tchNormalization)                                               \n",
      "                                                                 \n",
      " activation_132 (Activation)  (None, 24, 24, 32)       0         \n",
      "                                                                 \n",
      " conv2d_106 (Conv2D)         (None, 22, 22, 32)        9248      \n",
      "                                                                 \n",
      " batch_normalization_115 (Ba  (None, 22, 22, 32)       128       \n",
      " tchNormalization)                                               \n",
      "                                                                 \n",
      " activation_133 (Activation)  (None, 22, 22, 32)       0         \n",
      "                                                                 \n",
      " conv2d_107 (Conv2D)         (None, 20, 20, 32)        9248      \n",
      "                                                                 \n",
      " batch_normalization_116 (Ba  (None, 20, 20, 32)       128       \n",
      " tchNormalization)                                               \n",
      "                                                                 \n",
      " activation_134 (Activation)  (None, 20, 20, 32)       0         \n",
      "                                                                 \n",
      " max_pooling2d_22 (MaxPoolin  (None, 10, 10, 32)       0         \n",
      " g2D)                                                            \n",
      "                                                                 \n",
      " conv2d_108 (Conv2D)         (None, 8, 8, 16)          4624      \n",
      "                                                                 \n",
      " batch_normalization_117 (Ba  (None, 8, 8, 16)         64        \n",
      " tchNormalization)                                               \n",
      "                                                                 \n",
      " activation_135 (Activation)  (None, 8, 8, 16)         0         \n",
      "                                                                 \n",
      " conv2d_109 (Conv2D)         (None, 6, 6, 16)          2320      \n",
      "                                                                 \n",
      " batch_normalization_118 (Ba  (None, 6, 6, 16)         64        \n",
      " tchNormalization)                                               \n",
      "                                                                 \n",
      " activation_136 (Activation)  (None, 6, 6, 16)         0         \n",
      "                                                                 \n",
      " flatten_14 (Flatten)        (None, 576)               0         \n",
      "                                                                 \n",
      " dense_28 (Dense)            (None, 512)               295424    \n",
      "                                                                 \n",
      " batch_normalization_119 (Ba  (None, 512)              2048      \n",
      " tchNormalization)                                               \n",
      "                                                                 \n",
      " activation_137 (Activation)  (None, 512)              0         \n",
      "                                                                 \n",
      " dense_29 (Dense)            (None, 10)                5130      \n",
      "                                                                 \n",
      " activation_138 (Activation)  (None, 10)               0         \n",
      "                                                                 \n",
      "=================================================================\n",
      "Total params: 338,250\n",
      "Trainable params: 336,906\n",
      "Non-trainable params: 1,344\n",
      "_________________________________________________________________\n"
     ]
    }
   ],
   "source": [
    "model.summary()"
   ]
  },
  {
   "cell_type": "code",
   "execution_count": 158,
   "metadata": {},
   "outputs": [],
   "source": [
    "model.compile(loss='categorical_crossentropy', optimizer='adam', metrics=['accuracy'])"
   ]
  },
  {
   "cell_type": "code",
   "execution_count": 159,
   "metadata": {},
   "outputs": [
    {
     "name": "stdout",
     "output_type": "stream",
     "text": [
      "Epoch 1/3\n",
      "469/469 [==============================] - 98s 206ms/step - loss: 1.8886 - accuracy: 0.7805\n",
      "Epoch 2/3\n",
      "469/469 [==============================] - 87s 186ms/step - loss: 1.1328 - accuracy: 0.8528\n",
      "Epoch 3/3\n",
      "469/469 [==============================] - 88s 188ms/step - loss: 0.7024 - accuracy: 0.8798\n"
     ]
    },
    {
     "data": {
      "text/plain": [
       "<keras.callbacks.History at 0x1d507799ff0>"
      ]
     },
     "execution_count": 159,
     "metadata": {},
     "output_type": "execute_result"
    }
   ],
   "source": [
    "model.fit(X_train, Y_train, batch_size = 128, epochs=3, verbose=1)"
   ]
  },
  {
   "cell_type": "code",
   "execution_count": 160,
   "metadata": {},
   "outputs": [
    {
     "name": "stdout",
     "output_type": "stream",
     "text": [
      "313/313 [==============================] - 3s 10ms/step - loss: 0.5804 - accuracy: 0.8788\n",
      "Test loss: 0.5804\n",
      "Test accuracy: 0.8788\n"
     ]
    }
   ],
   "source": [
    "loss, accuracy = model.evaluate(X_test, Y_test)\n",
    "print(f\"Test loss: {loss:.4f}\")\n",
    "print(f\"Test accuracy: {accuracy:.4f}\")"
   ]
  }
 ],
 "metadata": {
  "kernelspec": {
   "display_name": "MachineLearning_20240206",
   "language": "python",
   "name": "python3"
  },
  "language_info": {
   "codemirror_mode": {
    "name": "ipython",
    "version": 3
   },
   "file_extension": ".py",
   "mimetype": "text/x-python",
   "name": "python",
   "nbconvert_exporter": "python",
   "pygments_lexer": "ipython3",
   "version": "3.10.13"
  }
 },
 "nbformat": 4,
 "nbformat_minor": 2
}
